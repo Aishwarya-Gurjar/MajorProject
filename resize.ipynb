{
 "cells": [
  {
   "cell_type": "code",
   "execution_count": 11,
   "metadata": {},
   "outputs": [],
   "source": [
    "\n",
    "from PIL import Image \n",
    "  \n",
    "def main(): \n",
    "    try: \n",
    "         #Relative Path \n",
    "        img = Image.open(\"C:\\\\Users\\\\HP\\\\Desktop\\\\New folder\\\\frame50.jpg\") \n",
    "        width, height = img.size \n",
    "   \n",
    "        img = img.resize((200, 100)) \n",
    "          \n",
    "        #Saved in the same relative location \n",
    "        img.save(\"C:\\\\Users\\\\HP\\\\Desktop\\\\New folder\\\\frame50resized_picture.jpg\")  \n",
    "    except IOError: \n",
    "        pass\n",
    "  \n",
    "if __name__ == \"__main__\": \n",
    "    main()"
   ]
  },
  {
   "cell_type": "code",
   "execution_count": null,
   "metadata": {},
   "outputs": [],
   "source": []
  }
 ],
 "metadata": {
  "kernelspec": {
   "display_name": "Python 3",
   "language": "python",
   "name": "python3"
  },
  "language_info": {
   "codemirror_mode": {
    "name": "ipython",
    "version": 3
   },
   "file_extension": ".py",
   "mimetype": "text/x-python",
   "name": "python",
   "nbconvert_exporter": "python",
   "pygments_lexer": "ipython3",
   "version": "3.6.5"
  }
 },
 "nbformat": 4,
 "nbformat_minor": 2
}
