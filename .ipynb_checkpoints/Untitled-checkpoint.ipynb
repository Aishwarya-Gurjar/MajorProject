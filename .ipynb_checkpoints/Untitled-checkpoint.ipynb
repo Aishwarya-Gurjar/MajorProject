{
 "cells": [
  {
   "cell_type": "code",
   "execution_count": 1,
   "metadata": {},
   "outputs": [],
   "source": []
  },
  {
   "cell_type": "code",
   "execution_count": 17,
   "metadata": {},
   "outputs": [
    {
     "name": "stdout",
     "output_type": "stream",
     "text": [
      "scene6-camera1.mov\n",
      "2 [0, 0, 0, 0, 0, 0, 0, 0, 0, 0, 0, 0, 0, 0, 0, 16, 0, 0, 0, 0, 0, 0, 0, 0, 0, 0, 0, 0, 0, 0, 0, 0, 33, 0, 0, 0, 0, 0, 0, 40, 41, 42] 3.5\n"
     ]
    },
    {
     "ename": "UnboundLocalError",
     "evalue": "local variable 'count' referenced before assignment",
     "output_type": "error",
     "traceback": [
      "\u001b[0;31m---------------------------------------------------------------------------\u001b[0m",
      "\u001b[0;31mUnboundLocalError\u001b[0m                         Traceback (most recent call last)",
      "\u001b[0;32m<ipython-input-17-0af61c6d9bc5>\u001b[0m in \u001b[0;36m<module>\u001b[0;34m\u001b[0m\n\u001b[1;32m    113\u001b[0m     \u001b[0my\u001b[0m\u001b[0;34m=\u001b[0m\u001b[0my\u001b[0m\u001b[0;34m.\u001b[0m\u001b[0mreset_index\u001b[0m\u001b[0;34m(\u001b[0m\u001b[0;34m)\u001b[0m\u001b[0;34m\u001b[0m\u001b[0m\n\u001b[1;32m    114\u001b[0m     \u001b[0mprint\u001b[0m\u001b[0;34m(\u001b[0m\u001b[0mnameoffile\u001b[0m\u001b[0;34m[\u001b[0m\u001b[0mx\u001b[0m\u001b[0;34m]\u001b[0m\u001b[0;34m)\u001b[0m\u001b[0;34m\u001b[0m\u001b[0m\n\u001b[0;32m--> 115\u001b[0;31m     \u001b[0mFrameCapture\u001b[0m\u001b[0;34m(\u001b[0m\u001b[0mnameoffile\u001b[0m\u001b[0;34m[\u001b[0m\u001b[0mx\u001b[0m\u001b[0;34m]\u001b[0m\u001b[0;34m,\u001b[0m\u001b[0my\u001b[0m\u001b[0;34m)\u001b[0m\u001b[0;34m\u001b[0m\u001b[0m\n\u001b[0m",
      "\u001b[0;32m<ipython-input-17-0af61c6d9bc5>\u001b[0m in \u001b[0;36mFrameCapture\u001b[0;34m(path, file)\u001b[0m\n\u001b[1;32m     88\u001b[0m                     \u001b[0mimage\u001b[0m\u001b[0;34m=\u001b[0m\u001b[0mcrop_the_image\u001b[0m\u001b[0;34m(\u001b[0m\u001b[0mimage\u001b[0m\u001b[0;34m)\u001b[0m\u001b[0;34m\u001b[0m\u001b[0m\n\u001b[1;32m     89\u001b[0m                     \u001b[0mcounter1\u001b[0m \u001b[0;34m=\u001b[0m\u001b[0;36m0\u001b[0m\u001b[0;34m\u001b[0m\u001b[0m\n\u001b[0;32m---> 90\u001b[0;31m                     \u001b[0;32mfor\u001b[0m \u001b[0mi\u001b[0m \u001b[0;32min\u001b[0m \u001b[0mrange\u001b[0m\u001b[0;34m(\u001b[0m\u001b[0mnumberofsameframe\u001b[0m\u001b[0;34m(\u001b[0m\u001b[0mframesaccepted\u001b[0m\u001b[0;34m[\u001b[0m\u001b[0mcounter1\u001b[0m\u001b[0;34m*\u001b[0m\u001b[0mcounter\u001b[0m\u001b[0;34m:\u001b[0m\u001b[0;34m(\u001b[0m\u001b[0mcounter1\u001b[0m\u001b[0;34m+\u001b[0m\u001b[0;36m1\u001b[0m\u001b[0;34m)\u001b[0m\u001b[0;34m*\u001b[0m\u001b[0mcounter\u001b[0m\u001b[0;34m]\u001b[0m\u001b[0;34m)\u001b[0m\u001b[0;34m)\u001b[0m\u001b[0;34m:\u001b[0m\u001b[0;34m\u001b[0m\u001b[0m\n\u001b[0m\u001b[1;32m     91\u001b[0m                         \u001b[0mcv2\u001b[0m\u001b[0;34m.\u001b[0m\u001b[0mimwrite\u001b[0m\u001b[0;34m(\u001b[0m\u001b[0;34m\"segmented/\"\u001b[0m\u001b[0;34m+\u001b[0m\u001b[0mfile\u001b[0m\u001b[0;34m[\u001b[0m\u001b[0;34m'Sign gloss'\u001b[0m\u001b[0;34m]\u001b[0m\u001b[0;34m[\u001b[0m\u001b[0mrowoffile\u001b[0m\u001b[0;34m]\u001b[0m\u001b[0;34m+\u001b[0m\u001b[0;34m\"/\"\u001b[0m\u001b[0;34m+\u001b[0m\u001b[0mstr\u001b[0m\u001b[0;34m(\u001b[0m\u001b[0mnooffolder\u001b[0m\u001b[0;34m)\u001b[0m\u001b[0;34m+\u001b[0m\u001b[0;34m\"/\"\u001b[0m\u001b[0;34m+\u001b[0m\u001b[0;34m\"%d.jpg\"\u001b[0m \u001b[0;34m%\u001b[0m \u001b[0mcountofframe\u001b[0m\u001b[0;34m,\u001b[0m \u001b[0mimage\u001b[0m\u001b[0;34m)\u001b[0m\u001b[0;34m\u001b[0m\u001b[0m\n\u001b[1;32m     92\u001b[0m                         \u001b[0mcountofframe\u001b[0m \u001b[0;34m+=\u001b[0m \u001b[0;36m1\u001b[0m\u001b[0;34m\u001b[0m\u001b[0m\n",
      "\u001b[0;32m<ipython-input-17-0af61c6d9bc5>\u001b[0m in \u001b[0;36mnumberofsameframe\u001b[0;34m(framesaccepted)\u001b[0m\n\u001b[1;32m     15\u001b[0m         \u001b[0;32mif\u001b[0m \u001b[0mframe\u001b[0m \u001b[0;34m!=\u001b[0m\u001b[0;36m0\u001b[0m\u001b[0;34m:\u001b[0m\u001b[0;34m\u001b[0m\u001b[0m\n\u001b[1;32m     16\u001b[0m             \u001b[0mcount\u001b[0m\u001b[0;34m+=\u001b[0m\u001b[0;36m1\u001b[0m\u001b[0;34m\u001b[0m\u001b[0m\n\u001b[0;32m---> 17\u001b[0;31m     \u001b[0;32mreturn\u001b[0m \u001b[0mcount\u001b[0m\u001b[0;34m\u001b[0m\u001b[0m\n\u001b[0m\u001b[1;32m     18\u001b[0m \u001b[0;34m\u001b[0m\u001b[0m\n\u001b[1;32m     19\u001b[0m \u001b[0;32mdef\u001b[0m \u001b[0mcreate_folders_of_sign\u001b[0m\u001b[0;34m(\u001b[0m\u001b[0mlistofsign\u001b[0m\u001b[0;34m)\u001b[0m\u001b[0;34m:\u001b[0m\u001b[0;34m\u001b[0m\u001b[0m\n",
      "\u001b[0;31mUnboundLocalError\u001b[0m: local variable 'count' referenced before assignment"
     ]
    }
   ],
   "source": [
    "import cv2 \n",
    "import time\n",
    "import numpy as np\n",
    "import pandas as pd \n",
    "import os\n",
    "from PIL import Image \n",
    "from skimage.transform import resize\n",
    "# from skimage.color import rgb2gray\n",
    "import matplotlib.pyplot as plt\n",
    "from scipy import misc\n",
    "import torch\n",
    "\n",
    "def numberofsameframe(framesaccepted):\n",
    "    for frame in framesaccepted:\n",
    "        if frame !=0:\n",
    "            count+=1\n",
    "    return count\n",
    "\n",
    "def create_folders_of_sign(listofsign):\n",
    "    for sign in listofsign:\n",
    "        # checking if the folder already exist\n",
    "        if not os.path.exists('segmented/'+sign):\n",
    "            os.mkdir('segmented/'+sign)\n",
    "\n",
    "def create_list_to_save_frames(file,rowoffile,requiredframes):\n",
    "    noofframes=file['Gloss end'][rowoffile]-file['Gloss start'][rowoffile] +1\n",
    "    counter =2\n",
    "    value = noofframes\n",
    "#     print(1)\n",
    "    while value < requiredframes:\n",
    "        value= noofframes*counter\n",
    "        counter+=1\n",
    "    counter -=1\n",
    "#     print(1)\n",
    "    noofframes=value\n",
    "    framesaccepted = list(range(1,noofframes+1,1))        \n",
    "    factor = len(framesaccepted)/(len(framesaccepted)-requiredframes)\n",
    "    y=0\n",
    "#     print(2)\n",
    "    while y<=len(framesaccepted)-m.floor(factor):\n",
    "        y=y+b\n",
    "        e=int(m.floor(y))-1\n",
    "        framesaccepted[e]=0\n",
    "#     print(2)\n",
    "    return counter,framesaccepted,factor\n",
    "\n",
    "#Creating new folder for every video of every action\n",
    "def create_folder_for_each_sign(file,rowoffile):\n",
    "    path = './segmented/'+file['Sign gloss'][rowoffile]\n",
    "    files = os.listdir(path)\n",
    "    nooffolder=len(files)+1\n",
    "    os.mkdir('./segmented/'+file['Sign gloss'][rowoffile]+\"/\"+str(nooffolder))\n",
    "    return nooffolder\n",
    "def crop_the_image(image):\n",
    "    img = Image.fromarray(image.astype('uint8'), 'RGB')\n",
    "    area = (100, 20, 540, 460) \n",
    "    img = img.crop(area)\n",
    "    image=np.array(img)\n",
    "    return image\n",
    "\n",
    "def FrameCapture(path,file): \n",
    "    vidObj = cv2.VideoCapture(path) \n",
    "    count = 0\n",
    "    requiredframes = 30\n",
    "    success = 1\n",
    "    listofsign=list(file['Sign gloss'])\n",
    "    length = len(listofsign)\n",
    "    rowoffile =0\n",
    "    # creating floder for each sign\n",
    "    create_folders_of_sign(listofsign)\n",
    "    \n",
    "    while success:\n",
    "        if rowoffile<=length-1:\n",
    "            #checking if the frame is to be saved or not \n",
    "            if  count>=file['Gloss start'][rowoffile] and count<=file['Gloss end'][rowoffile]: \n",
    "                x = 1 # flag\n",
    "                countofframe=0\n",
    "#                 print(1)\n",
    "                counter,framesaccepted,factor=create_list_to_save_frames(file,rowoffile,requiredframes)                \n",
    "                print(counter,framesaccepted,factor)\n",
    "                for z in range(file['Gloss start'][rowoffile],file['Gloss end'][rowoffile]+1):\n",
    "                    if x is 1:\n",
    "                        nooffloder=create_folder_for_each_sign(file,rowoffile)               \n",
    "                        x = 2 \n",
    "                    success, image = vidObj.read()\n",
    "                    countofframe += 1\n",
    "                    count += 1\n",
    "                    image=crop_the_image(image)                    \n",
    "                    counter1 =0 \n",
    "                    for i in range(numberofsameframe(framesaccepted[counter1*counter:(counter1+1)*counter])):\n",
    "                        cv2.imwrite(\"segmented/\"+file['Sign gloss'][rowoffile]+\"/\"+str(nooffolder)+\"/\"+\"%d.jpg\" % countofframe, image)\n",
    "                        countofframe += 1\n",
    "                    counter1+=1\n",
    "                rowoffile+=1 # changing the row in the dataframe\n",
    "            else:\n",
    "                # leaving the frames that are not needed\n",
    "                success, image = vidObj.read()\n",
    "                count += 1\n",
    "#                 print(count)\n",
    "        else:\n",
    "            # leaving the video if all the sign has been extracted\n",
    "            break\n",
    "\n",
    "                    \n",
    "            \n",
    "data = pd.read_csv('dana.csv',header =1 )\n",
    "data = data.drop(labels = ['1','Compound signs','Session','Scene','uta Gloss start','uta Gloss end','uta hand annotation','uta no','XML','Dominant handshape IDs','Non-dominant handshape frames','Dominant handshape frames','Non-dominant handshape IDs'],axis=1)\n",
    "file=list(data['MOV'].unique())\n",
    "nameoffiles=data['MOV'].str.split('/',expand = True)[2]\n",
    "nameoffile=nameoffiles.unique()\n",
    "for x in range(len(nameoffile)):\n",
    "    y=data[data['MOV']==file[x]]\n",
    "    y=y.reset_index()\n",
    "    print(nameoffile[x])\n",
    "    FrameCapture(nameoffile[x],y)\n"
   ]
  },
  {
   "cell_type": "code",
   "execution_count": 31,
   "metadata": {},
   "outputs": [
    {
     "name": "stdout",
     "output_type": "stream",
     "text": [
      "0 1\n",
      "0 2\n",
      "0 3\n"
     ]
    },
    {
     "ename": "UnboundLocalError",
     "evalue": "local variable 'count' referenced before assignment",
     "output_type": "error",
     "traceback": [
      "\u001b[0;31m---------------------------------------------------------------------------\u001b[0m",
      "\u001b[0;31mUnboundLocalError\u001b[0m                         Traceback (most recent call last)",
      "\u001b[0;32m<ipython-input-31-5fb4e2cbe270>\u001b[0m in \u001b[0;36m<module>\u001b[0;34m\u001b[0m\n\u001b[1;32m     20\u001b[0m             \u001b[0ma\u001b[0m\u001b[0;34m[\u001b[0m\u001b[0me\u001b[0m\u001b[0;34m]\u001b[0m\u001b[0;34m=\u001b[0m\u001b[0;36m0\u001b[0m\u001b[0;34m\u001b[0m\u001b[0m\n\u001b[1;32m     21\u001b[0m \u001b[0;31m#         count=0\u001b[0m\u001b[0;34m\u001b[0m\u001b[0;34m\u001b[0m\u001b[0m\n\u001b[0;32m---> 22\u001b[0;31m         \u001b[0mcount\u001b[0m\u001b[0;34m=\u001b[0m\u001b[0mnumberofsameframe\u001b[0m\u001b[0;34m(\u001b[0m\u001b[0ma\u001b[0m\u001b[0;34m)\u001b[0m\u001b[0;34m\u001b[0m\u001b[0m\n\u001b[0m\u001b[1;32m     23\u001b[0m     \u001b[0mprint\u001b[0m\u001b[0;34m(\u001b[0m\u001b[0mcount\u001b[0m \u001b[0;34m,\u001b[0m \u001b[0mr\u001b[0m\u001b[0;34m)\u001b[0m\u001b[0;34m\u001b[0m\u001b[0m\n\u001b[1;32m     24\u001b[0m \u001b[0;32mdef\u001b[0m \u001b[0mnumberofsameframe\u001b[0m\u001b[0;34m(\u001b[0m\u001b[0ma\u001b[0m\u001b[0;34m)\u001b[0m\u001b[0;34m:\u001b[0m\u001b[0;34m\u001b[0m\u001b[0m\n",
      "\u001b[0;32m<ipython-input-17-0af61c6d9bc5>\u001b[0m in \u001b[0;36mnumberofsameframe\u001b[0;34m(framesaccepted)\u001b[0m\n\u001b[1;32m     14\u001b[0m     \u001b[0;32mfor\u001b[0m \u001b[0mframe\u001b[0m \u001b[0;32min\u001b[0m \u001b[0mframesaccepted\u001b[0m\u001b[0;34m:\u001b[0m\u001b[0;34m\u001b[0m\u001b[0m\n\u001b[1;32m     15\u001b[0m         \u001b[0;32mif\u001b[0m \u001b[0mframe\u001b[0m \u001b[0;34m!=\u001b[0m\u001b[0;36m0\u001b[0m\u001b[0;34m:\u001b[0m\u001b[0;34m\u001b[0m\u001b[0m\n\u001b[0;32m---> 16\u001b[0;31m             \u001b[0mcount\u001b[0m\u001b[0;34m+=\u001b[0m\u001b[0;36m1\u001b[0m\u001b[0;34m\u001b[0m\u001b[0m\n\u001b[0m\u001b[1;32m     17\u001b[0m     \u001b[0;32mreturn\u001b[0m \u001b[0mcount\u001b[0m\u001b[0;34m\u001b[0m\u001b[0m\n\u001b[1;32m     18\u001b[0m \u001b[0;34m\u001b[0m\u001b[0m\n",
      "\u001b[0;31mUnboundLocalError\u001b[0m: local variable 'count' referenced before assignment"
     ]
    }
   ],
   "source": [
    "import math as m\n",
    "\n",
    "for r in range(1,500,1):\n",
    "    value = r\n",
    "    z=r\n",
    "    counter =2\n",
    "    while z < 30:\n",
    "        z= value*counter\n",
    "        counter+=1\n",
    "    value =z\n",
    "    counter -=1\n",
    "#     print(value,r)\n",
    "    a = list(range(1,value+1,1))\n",
    "    if len(a)>30:\n",
    "        b = len(a)/(len(a)-30)\n",
    "        x=0\n",
    "        while x<=len(a)-m.floor(b):\n",
    "            x=x+b\n",
    "            e=int(m.floor(x))-1\n",
    "            a[e]=0\n",
    "#         count=0\n",
    "        count=numberofsameframe(a)\n",
    "    print(count , r)\n",
    "def numberofsameframe(a):\n",
    "    count=0\n",
    "    for x in a:\n",
    "        if x !=0:\n",
    "            count+=1\n",
    "    return count\n",
    "    \n",
    "\n",
    "    "
   ]
  },
  {
   "cell_type": "code",
   "execution_count": 131,
   "metadata": {},
   "outputs": [
    {
     "name": "stdout",
     "output_type": "stream",
     "text": [
      "30\n"
     ]
    }
   ],
   "source": [
    "count=0\n",
    "for x in a:\n",
    "    if x !=0:\n",
    "        count+=1\n",
    "print(count)"
   ]
  },
  {
   "cell_type": "code",
   "execution_count": 124,
   "metadata": {},
   "outputs": [
    {
     "name": "stdout",
     "output_type": "stream",
     "text": [
      "31\n"
     ]
    }
   ],
   "source": []
  },
  {
   "cell_type": "code",
   "execution_count": null,
   "metadata": {},
   "outputs": [],
   "source": []
  }
 ],
 "metadata": {
  "kernelspec": {
   "display_name": "Python 3",
   "language": "python",
   "name": "python3"
  },
  "language_info": {
   "codemirror_mode": {
    "name": "ipython",
    "version": 3
   },
   "file_extension": ".py",
   "mimetype": "text/x-python",
   "name": "python",
   "nbconvert_exporter": "python",
   "pygments_lexer": "ipython3",
   "version": "3.6.6"
  }
 },
 "nbformat": 4,
 "nbformat_minor": 2
}
