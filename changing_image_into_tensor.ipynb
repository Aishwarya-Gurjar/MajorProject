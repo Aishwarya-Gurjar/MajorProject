{
 "cells": [
  {
   "cell_type": "code",
   "execution_count": 2,
   "metadata": {},
   "outputs": [
    {
     "name": "stderr",
     "output_type": "stream",
     "text": [
      "/home/siddhant/anaconda3/lib/python3.6/site-packages/ipykernel_launcher.py:9: DeprecationWarning: `imread` is deprecated!\n",
      "`imread` is deprecated in SciPy 1.0.0, and will be removed in 1.2.0.\n",
      "Use ``imageio.imread`` instead.\n",
      "  if __name__ == '__main__':\n"
     ]
    },
    {
     "data": {
      "image/png": "[encoded data removed]",
      "text/plain": [
       "<Figure size 432x288 with 1 Axes>"
      ]
     },
     "metadata": {
      "needs_background": "light"
     },
     "output_type": "display_data"
    }
   ],
   "source": [
    "from skimage.transform import resize\n",
    "from skimage.color import rgb2gray\n",
    "import matplotlib.pyplot as plt\n",
    "from scipy import misc\n",
    "import numpy as np\n",
    "import torch\n",
    "\n",
    "#Lädt das Bild aus der JPG Datei\n",
    "picture = misc.imread('2.jpg')\n",
    "# print(\"NumPy: \",type(picture))\n",
    "# print(\"Shape of Array: \",picture.shape)\n",
    "# print(\"dtype of Array: \",picture.dtype)\n",
    "\n",
    "\n",
    "# print(\"Inhalt des numpy Array mit 3 RGB Achsen: \",picture)\n",
    "\n",
    "picture = resize(picture, (100, 100), mode='constant', anti_aliasing=True)\n",
    "\n",
    "\n",
    "\n",
    "# print(\"Inhalt des numpy Array mit 1 Grau Achse: \",picture)\n",
    "\n",
    "plt.imshow(picture,cmap=\"gray\") \n",
    "plt.show()\n",
    "\n",
    "Terragon = torch.tensor(picture)\n",
    "# print(\"PyTorch Tensor : \",Terragon)\n",
    "# print(Terragon.shape)\n",
    "\n",
    "Terragon = Terragon.flatten()\n",
    "# print(\"Flatten Tensor: \",Terragon)\n",
    "# print(Terragon.shape)"
   ]
  },
  {
   "cell_type": "code",
   "execution_count": 3,
   "metadata": {},
   "outputs": [],
   "source": [
    " import pandas as pd "
   ]
  },
  {
   "cell_type": "code",
   "execution_count": 10,
   "metadata": {},
   "outputs": [],
   "source": [
    "data = pd.read_csv('liz.csv',header =1)"
   ]
  },
  {
   "cell_type": "code",
   "execution_count": 15,
   "metadata": {},
   "outputs": [
    {
     "name": "stdout",
     "output_type": "stream",
     "text": [
      "588       5\n",
      "592      10\n",
      "585      10\n",
      "1181     10\n",
      "284      10\n",
      "346      10\n",
      "882      12\n",
      "843      13\n",
      "860      13\n",
      "243      15\n",
      "334      15\n",
      "251      15\n",
      "546      15\n",
      "335      16\n",
      "206      16\n",
      "905      16\n",
      "271      16\n",
      "979      17\n",
      "841      18\n",
      "837      18\n",
      "607      18\n",
      "557      18\n",
      "776      19\n",
      "347      19\n",
      "902      19\n",
      "156      19\n",
      "781      19\n",
      "956      19\n",
      "1363     20\n",
      "863      20\n",
      "       ... \n",
      "328      85\n",
      "526      85\n",
      "368      85\n",
      "1494     85\n",
      "997      85\n",
      "57       85\n",
      "1030     85\n",
      "669      85\n",
      "1571     86\n",
      "1478     86\n",
      "1304     86\n",
      "1427     89\n",
      "1261     90\n",
      "920      90\n",
      "794      92\n",
      "802      95\n",
      "1274     95\n",
      "1175     95\n",
      "953      96\n",
      "639      97\n",
      "1537     98\n",
      "325      99\n",
      "516     101\n",
      "730     102\n",
      "1115    114\n",
      "514     115\n",
      "555     125\n",
      "1489    126\n",
      "56      127\n",
      "1286    164\n",
      "Length: 1575, dtype: int64\n"
     ]
    }
   ],
   "source": [
    "print((data['Gloss end']-data['Gloss start']).sort_values())"
   ]
  },
  {
   "cell_type": "code",
   "execution_count": null,
   "metadata": {},
   "outputs": [],
   "source": []
  }
 ],
 "metadata": {
  "kernelspec": {
   "display_name": "Python 3",
   "language": "python",
   "name": "python3"
  },
  "language_info": {
   "codemirror_mode": {
    "name": "ipython",
    "version": 3
   },
   "file_extension": ".py",
   "mimetype": "text/x-python",
   "name": "python",
   "nbconvert_exporter": "python",
   "pygments_lexer": "ipython3",
   "version": "3.6.6"
  }
 },
 "nbformat": 4,
 "nbformat_minor": 2
}
